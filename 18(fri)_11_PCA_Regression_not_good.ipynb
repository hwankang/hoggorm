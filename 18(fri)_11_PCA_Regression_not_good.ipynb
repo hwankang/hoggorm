{
  "nbformat": 4,
  "nbformat_minor": 0,
  "metadata": {
    "colab": {
      "private_outputs": true,
      "provenance": [],
      "authorship_tag": "ABX9TyPKZ4qlveRnsqHeJiHbrqkp",
      "include_colab_link": true
    },
    "kernelspec": {
      "name": "python3",
      "display_name": "Python 3"
    },
    "language_info": {
      "name": "python"
    },
    "gpuClass": "standard"
  },
  "cells": [
    {
      "cell_type": "markdown",
      "metadata": {
        "id": "view-in-github",
        "colab_type": "text"
      },
      "source": [
        "<a href=\"https://colab.research.google.com/github/hwankang/hoggorm/blob/master/18(fri)_11_PCA_Regression_not_good.ipynb\" target=\"_parent\"><img src=\"https://colab.research.google.com/assets/colab-badge.svg\" alt=\"Open In Colab\"/></a>"
      ]
    },
    {
      "cell_type": "code",
      "execution_count": null,
      "metadata": {
        "id": "DEOo0iKNARn3"
      },
      "outputs": [],
      "source": [
        "!wget https://github.com/olivertomic/hoggorm\n",
        "!pip install hoggorm"
      ]
    },
    {
      "cell_type": "code",
      "source": [
        "!pip install hoggormplot\n",
        "import hoggorm as ho\n",
        "import hoggormplot as hop\n",
        "import pandas as pd\n",
        "import numpy as np"
      ],
      "metadata": {
        "id": "rg2FBLQjAhJs"
      },
      "execution_count": null,
      "outputs": []
    },
    {
      "cell_type": "code",
      "source": [
        "from google.colab import drive\n",
        "drive.mount('/content/drive')\n",
        "filename='/content/drive/MyDrive/machine_learning/123_Raman_DATA_csv.csv'\n",
        "import pandas as pd\n",
        "X2_df = pd.read_csv(filename)\n",
        "X2_df"
      ],
      "metadata": {
        "id": "ChHSz9LcAufS"
      },
      "execution_count": null,
      "outputs": []
    },
    {
      "cell_type": "code",
      "source": [
        "X3_df=X2_df.iloc[:,5:]\n",
        "X3_df"
      ],
      "metadata": {
        "id": "9dDGG73vAx83"
      },
      "execution_count": null,
      "outputs": []
    },
    {
      "cell_type": "code",
      "source": [
        "int(X3_df.shape[0]*0.7), X3_df.shape[0]-int(X3_df.shape[0]*0.85)"
      ],
      "metadata": {
        "id": "rT1kG8JUA92h"
      },
      "execution_count": null,
      "outputs": []
    },
    {
      "cell_type": "code",
      "source": [
        "fifth=int(X3_df.shape[0]*0.2)+1"
      ],
      "metadata": {
        "id": "3Ha1nbWqSe6T"
      },
      "execution_count": null,
      "outputs": []
    },
    {
      "cell_type": "code",
      "source": [
        "#1\n",
        "X_df_1=X3_df.iloc[0:fifth,:]\n",
        "X_df_2=X3_df.iloc[fifth:2*fifth,:]\n",
        "X_df_3=X3_df.iloc[fifth*2:fifth*3,:]\n",
        "X_df_4=X3_df.iloc[fifth*3:fifth*4,:]\n",
        "X_df_5=X3_df.iloc[fifth*4:,:]\n",
        "X_df_1234=X_df_1.append(X_df_2).append(X_df_3).append(X_df_4)\n",
        "X_df=X_df_1234\n",
        "X_df_test=X_df_5"
      ],
      "metadata": {
        "id": "dxxIjP8qTBL2"
      },
      "execution_count": null,
      "outputs": []
    },
    {
      "cell_type": "code",
      "source": [
        "#2\n",
        "X_df_1=X3_df.iloc[0:fifth,:]\n",
        "X_df_2=X3_df.iloc[fifth:2*fifth,:]\n",
        "X_df_3=X3_df.iloc[fifth*2:fifth*3,:]\n",
        "X_df_4=X3_df.iloc[fifth*3:fifth*4,:]\n",
        "X_df_5=X3_df.iloc[fifth*4:,:]\n",
        "X_df_1235=X_df_1.append(X_df_2).append(X_df_3).append(X_df_5)\n",
        "X_df=X_df_1235\n",
        "X_df_test=X_df_4"
      ],
      "metadata": {
        "id": "T1KD46bQbKOx"
      },
      "execution_count": null,
      "outputs": []
    },
    {
      "cell_type": "code",
      "source": [
        "#3\n",
        "X_df_1=X3_df.iloc[0:fifth,:]\n",
        "X_df_2=X3_df.iloc[fifth:2*fifth,:]\n",
        "X_df_3=X3_df.iloc[fifth*2:fifth*3,:]\n",
        "X_df_4=X3_df.iloc[fifth*3:fifth*4,:]\n",
        "X_df_5=X3_df.iloc[fifth*4:,:]\n",
        "X_df_1245=X_df_1.append(X_df_2).append(X_df_4).append(X_df_5)\n",
        "X_df=X_df_1245\n",
        "X_df_test=X_df_3"
      ],
      "metadata": {
        "id": "OberNSxgdDjC"
      },
      "execution_count": null,
      "outputs": []
    },
    {
      "cell_type": "code",
      "source": [
        "#4\n",
        "X_df_1=X3_df.iloc[0:fifth,:]\n",
        "X_df_2=X3_df.iloc[fifth:2*fifth,:]\n",
        "X_df_3=X3_df.iloc[fifth*2:fifth*3,:]\n",
        "X_df_4=X3_df.iloc[fifth*3:fifth*4,:]\n",
        "X_df_5=X3_df.iloc[fifth*4:,:]\n",
        "X_df_1345=X_df_1.append(X_df_3).append(X_df_4).append(X_df_5)\n",
        "X_df=X_df_1345\n",
        "X_df_test=X_df_2"
      ],
      "metadata": {
        "id": "V9PEnvKAf6BI"
      },
      "execution_count": null,
      "outputs": []
    },
    {
      "cell_type": "code",
      "source": [
        "#5\n",
        "X_df_1=X3_df.iloc[0:fifth,:]\n",
        "X_df_2=X3_df.iloc[fifth:2*fifth,:]\n",
        "X_df_3=X3_df.iloc[fifth*2:fifth*3,:]\n",
        "X_df_4=X3_df.iloc[fifth*3:fifth*4,:]\n",
        "X_df_5=X3_df.iloc[fifth*4:,:]\n",
        "X_df_2345=X_df_2.append(X_df_3).append(X_df_4).append(X_df_5)\n",
        "X_df=X_df_2345\n",
        "X_df_test=X_df_1"
      ],
      "metadata": {
        "id": "DO1VhJt8hDgG"
      },
      "execution_count": null,
      "outputs": []
    },
    {
      "cell_type": "code",
      "source": [
        "##\n",
        "train_end=int(X3_df.shape[0]*0.8)\n",
        "X_df_train =X3_df.iloc[0:train_end,:]\n",
        "X_df=X_df_train\n",
        "X_df"
      ],
      "metadata": {
        "id": "53yKbLnNBKZQ"
      },
      "execution_count": null,
      "outputs": []
    },
    {
      "cell_type": "code",
      "source": [
        "##\n",
        "X_df_test =X3_df.iloc[train_end:,:]\n",
        "X_df_test"
      ],
      "metadata": {
        "id": "VufKrG1_BEPK"
      },
      "execution_count": null,
      "outputs": []
    },
    {
      "cell_type": "code",
      "source": [
        "Y3_df=X2_df.iloc[:,2:5]\n",
        "Y3_df"
      ],
      "metadata": {
        "id": "i_zLQVdMBlBE"
      },
      "execution_count": null,
      "outputs": []
    },
    {
      "cell_type": "code",
      "source": [
        "#1\n",
        "Y_df_1=Y3_df.iloc[0:fifth,:]\n",
        "Y_df_2=Y3_df.iloc[fifth:2*fifth,:]\n",
        "Y_df_3=Y3_df.iloc[fifth*2:fifth*3,:]\n",
        "Y_df_4=Y3_df.iloc[fifth*3:fifth*4,:]\n",
        "Y_df_5=Y3_df.iloc[fifth*4:,:]\n",
        "Y_df_1234=Y_df_1.append(Y_df_2).append(Y_df_3).append(Y_df_4)\n",
        "Y_df=Y_df_1234\n",
        "Y_df_true=Y_df_5\n",
        "Y_df_true"
      ],
      "metadata": {
        "id": "Bg7gHhLqX_3L"
      },
      "execution_count": null,
      "outputs": []
    },
    {
      "cell_type": "code",
      "source": [
        "#2\n",
        "Y_df_1=Y3_df.iloc[0:fifth,:]\n",
        "Y_df_2=Y3_df.iloc[fifth:2*fifth,:]\n",
        "Y_df_3=Y3_df.iloc[fifth*2:fifth*3,:]\n",
        "Y_df_4=Y3_df.iloc[fifth*3:fifth*4,:]\n",
        "Y_df_5=Y3_df.iloc[fifth*4:,:]\n",
        "Y_df_1235=Y_df_1.append(Y_df_2).append(Y_df_3).append(Y_df_5)\n",
        "Y_df=Y_df_1235\n",
        "Y_df_true=Y_df_4\n",
        "Y_df_true"
      ],
      "metadata": {
        "id": "zycNOUx1bba5"
      },
      "execution_count": null,
      "outputs": []
    },
    {
      "cell_type": "code",
      "source": [
        "#3\n",
        "Y_df_1=Y3_df.iloc[0:fifth,:]\n",
        "Y_df_2=Y3_df.iloc[fifth:2*fifth,:]\n",
        "Y_df_3=Y3_df.iloc[fifth*2:fifth*3,:]\n",
        "Y_df_4=Y3_df.iloc[fifth*3:fifth*4,:]\n",
        "Y_df_5=Y3_df.iloc[fifth*4:,:]\n",
        "Y_df_1245=Y_df_1.append(Y_df_2).append(Y_df_4).append(Y_df_5)\n",
        "Y_df=Y_df_1245\n",
        "Y_df_true=Y_df_3\n",
        "Y_df_true"
      ],
      "metadata": {
        "id": "o5-RA-C9da2I"
      },
      "execution_count": null,
      "outputs": []
    },
    {
      "cell_type": "code",
      "source": [
        "#4\n",
        "Y_df_1=Y3_df.iloc[0:fifth,:]\n",
        "Y_df_2=Y3_df.iloc[fifth:2*fifth,:]\n",
        "Y_df_3=Y3_df.iloc[fifth*2:fifth*3,:]\n",
        "Y_df_4=Y3_df.iloc[fifth*3:fifth*4,:]\n",
        "Y_df_5=Y3_df.iloc[fifth*4:,:]\n",
        "Y_df_1345=Y_df_1.append(Y_df_3).append(Y_df_4).append(Y_df_5)\n",
        "Y_df=Y_df_1345\n",
        "Y_df_true=Y_df_2\n",
        "Y_df_true"
      ],
      "metadata": {
        "id": "TBCjKnhTgVFb"
      },
      "execution_count": null,
      "outputs": []
    },
    {
      "cell_type": "code",
      "source": [
        "#5\n",
        "Y_df_1=Y3_df.iloc[0:fifth,:]\n",
        "Y_df_2=Y3_df.iloc[fifth:2*fifth,:]\n",
        "Y_df_3=Y3_df.iloc[fifth*2:fifth*3,:]\n",
        "Y_df_4=Y3_df.iloc[fifth*3:fifth*4,:]\n",
        "Y_df_5=Y3_df.iloc[fifth*4:,:]\n",
        "Y_df_2345=Y_df_2.append(Y_df_3).append(Y_df_4).append(Y_df_5)\n",
        "Y_df=Y_df_2345\n",
        "Y_df_true=Y_df_1\n",
        "Y_df_true"
      ],
      "metadata": {
        "id": "N3ypZVHRhb8s"
      },
      "execution_count": null,
      "outputs": []
    },
    {
      "cell_type": "code",
      "source": [
        "##\n",
        "Y_df_target =Y3_df.iloc[0:train_end,:]\n",
        "Y_df=Y_df_target\n",
        "Y_df"
      ],
      "metadata": {
        "id": "vSs2wta6BUHO"
      },
      "execution_count": null,
      "outputs": []
    },
    {
      "cell_type": "code",
      "source": [
        "##\n",
        "Y_df_ground =Y3_df.iloc[train_end:,:]\n",
        "Y_df_true= Y_df_ground\n",
        "Y_df_true"
      ],
      "metadata": {
        "id": "yYxpK4ZABqHn"
      },
      "execution_count": null,
      "outputs": []
    },
    {
      "cell_type": "code",
      "source": [
        "# Get the values from the data frame\n",
        "X = X_df.values\n",
        "Y = Y_df.values\n",
        "\n",
        "# Get the variable or columns names\n",
        "X_varNames = list(X_df.columns)\n",
        "Y_varNames = list(Y_df.columns)\n",
        "\n",
        "# Get the object or row names\n",
        "X_objNames = list(X_df.index)\n",
        "Y_objNames = list(Y_df.index)"
      ],
      "metadata": {
        "id": "R6UqRwFGBvLI"
      },
      "execution_count": null,
      "outputs": []
    },
    {
      "cell_type": "code",
      "source": [
        "model = ho.pcr.nipalsPCR(arrX=X, Xstand=False, \n",
        "                      arrY=Y, Ystand=False,\n",
        "                      cvType=[\"loo\"], \n",
        "                      numComp=4)"
      ],
      "metadata": {
        "id": "uCoXiqx5B4CG"
      },
      "execution_count": null,
      "outputs": []
    },
    {
      "cell_type": "code",
      "source": [
        "new_X =X_df_test\n",
        "# Now insert the new data into the existing model and compute scores for two components (numComp=2)\n",
        "#pred_X_scores = model.X_scores_predict(new_X, numComp=2)\n",
        "pred_X_scores = model.X_scores_predict(new_X, numComp=4)\n",
        "\n",
        "# Same as above, but results stored in a pandas dataframe with row names and column names\n",
        "pred_X_scores_df = pd.DataFrame(model.X_scores_predict(new_X, numComp=4))\n",
        "pred_X_scores_df.columns = ['comp {0}'.format(x+1) for x in range(4)]\n",
        "pred_X_scores_df.index = ['new object {0}'.format(x+1) for x in range(np.shape(new_X)[0])]\n",
        "pred_X_scores_df"
      ],
      "metadata": {
        "id": "p416uuA8B8m5"
      },
      "execution_count": null,
      "outputs": []
    },
    {
      "cell_type": "code",
      "source": [
        "# Predict Y from new X data\n",
        "pred_Y = model.Y_predict(new_X, numComp=4)\n",
        "\n",
        "# Predict Y from nex X data and store results in a pandas dataframe with row names and column names\n",
        "pred_Y_df = pd.DataFrame(model.Y_predict(new_X, numComp=4))\n",
        "pred_Y_df.columns = Y_varNames\n",
        "pred_Y_df.index = ['new object {0}'.format(x+1) for x in range(np.shape(new_X)[0])]\n",
        "pred_Y_df"
      ],
      "metadata": {
        "id": "WF_0h6x_Cld-"
      },
      "execution_count": null,
      "outputs": []
    },
    {
      "cell_type": "code",
      "source": [
        "Y_df_true"
      ],
      "metadata": {
        "id": "DtNacUhACvcT"
      },
      "execution_count": null,
      "outputs": []
    },
    {
      "cell_type": "code",
      "source": [
        "from sklearn.metrics import mean_squared_error, r2_score\n",
        "mse= mean_squared_error(Y_df_true, pred_Y_df)\n",
        "rmse=np.sqrt(mse)\n",
        "r2=r2_score(Y_df_true, pred_Y_df)\n",
        "print('MSE : {: 0.3f}, || RMSE : {: 0.3f}, || R2 : {: 0.3f}'.format(mse,rmse,r2))"
      ],
      "metadata": {
        "id": "n-bQNa52C0OF"
      },
      "execution_count": null,
      "outputs": []
    },
    {
      "cell_type": "code",
      "source": [
        "ms=[1.853, 3.205,   1.087, 0.587, 4.576]\n",
        "ms_data=np.array(ms)\n",
        "ms_data.mean(), ms_data.std()"
      ],
      "metadata": {
        "id": "9cx6TnKuiHti"
      },
      "execution_count": null,
      "outputs": []
    },
    {
      "cell_type": "code",
      "source": [
        "ms=[1.361, 1.790, 1.043, 0.766, 2.139]\n",
        "ms_data=np.array(ms)\n",
        "ms_data.mean(), ms_data.std()"
      ],
      "metadata": {
        "id": "yt3pybD8mNyj"
      },
      "execution_count": null,
      "outputs": []
    },
    {
      "cell_type": "code",
      "source": [
        "ms=[0.93, 0.751, 0.938, 0.965, 0.824]\n",
        "ms_data=np.array(ms)\n",
        "ms_data.mean(), ms_data.std()"
      ],
      "metadata": {
        "id": "BnQKJLkkmpQZ"
      },
      "execution_count": null,
      "outputs": []
    },
    {
      "cell_type": "markdown",
      "source": [
        "2번째 ("
      ],
      "metadata": {
        "id": "3X5aziEuP4D-"
      }
    },
    {
      "cell_type": "code",
      "source": [],
      "metadata": {
        "id": "vL55LzBDC9Sz"
      },
      "execution_count": null,
      "outputs": []
    }
  ]
}